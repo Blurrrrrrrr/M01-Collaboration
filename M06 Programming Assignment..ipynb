{
 "cells": [
  {
   "cell_type": "code",
   "execution_count": 10,
   "id": "92bbb284",
   "metadata": {},
   "outputs": [
    {
     "name": "stdout",
     "output_type": "stream",
     "text": [
      "Today is: 2023-12-03\n"
     ]
    }
   ],
   "source": [
    "#13.1\n",
    "#Writing current date as string.\n",
    "\n",
    "from datetime import date\n",
    "today = datetime.date.today()\n",
    "file_ptr = open('today.txt', 'w')\n",
    "file_ptr.write(str(today))\n",
    "file_ptr.close()\n",
    "print('Today is:', today)"
   ]
  },
  {
   "cell_type": "code",
   "execution_count": 15,
   "id": "32c9f4cd",
   "metadata": {},
   "outputs": [
    {
     "name": "stdout",
     "output_type": "stream",
     "text": [
      "2023-12-03\n"
     ]
    }
   ],
   "source": [
    "#13.2\n",
    "#Read the text file\n",
    "\n",
    "file_ptr = open('today.txt', 'r')\n",
    "today_string = file_ptr.read()\n",
    "file_ptr.close()\n",
    "print(today_string)"
   ]
  },
  {
   "cell_type": "code",
   "execution_count": 17,
   "id": "2690ee9b",
   "metadata": {},
   "outputs": [
    {
     "name": "stdout",
     "output_type": "stream",
     "text": [
      "Today is: 2023-12-03\n"
     ]
    }
   ],
   "source": [
    "#13.3\n",
    "#Parse the date\n",
    "\n",
    "today_string = datetime.datetime.strptime(today_date, '%Y-%m-%d').date()\n",
    "print('Today is:', today)"
   ]
  },
  {
   "cell_type": "code",
   "execution_count": 19,
   "id": "702e5bd0",
   "metadata": {},
   "outputs": [
    {
     "name": "stdout",
     "output_type": "stream",
     "text": [
      "Today's date and time is 2023-12-03 20:02:06.224791\n",
      "Today's date and time is 2023-12-03 20:02:06.409075\n",
      "Today's date and time is 2023-12-03 20:02:06.440530\n",
      "Exit\n"
     ]
    }
   ],
   "source": [
    "#15.1\n",
    "#multiprocessing\n",
    "\n",
    "import multiprocessing\n",
    "from datetime import datetime\n",
    "import time\n",
    "import random\n",
    "\n",
    "\n",
    "def print_time():\n",
    "    now = datetime.now()\n",
    "    print(\"Today's date and time is {}\".format(now))\n",
    "    time.sleep(random.random())\n",
    "\n",
    "\n",
    "if __name__ == '__main__':\n",
    "    proc1 = multiprocessing.Process(target=print_time())\n",
    "    proc2 = multiprocessing.Process(target=print_time())\n",
    "    proc3 = multiprocessing.Process(target=print_time())\n",
    "    proc1.start()\n",
    "    proc2.start()\n",
    "    proc3.start()\n",
    "    proc1.join()\n",
    "    proc2.join()\n",
    "    proc3.join()\n",
    "\n",
    "    print('Exit')"
   ]
  },
  {
   "cell_type": "code",
   "execution_count": null,
   "id": "0c312a74",
   "metadata": {},
   "outputs": [],
   "source": []
  }
 ],
 "metadata": {
  "kernelspec": {
   "display_name": "Python 3 (ipykernel)",
   "language": "python",
   "name": "python3"
  },
  "language_info": {
   "codemirror_mode": {
    "name": "ipython",
    "version": 3
   },
   "file_extension": ".py",
   "mimetype": "text/x-python",
   "name": "python",
   "nbconvert_exporter": "python",
   "pygments_lexer": "ipython3",
   "version": "3.10.9"
  }
 },
 "nbformat": 4,
 "nbformat_minor": 5
}
