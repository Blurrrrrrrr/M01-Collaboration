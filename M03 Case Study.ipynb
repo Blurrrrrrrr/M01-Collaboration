{
 "cells": [
  {
   "cell_type": "code",
   "execution_count": 13,
   "id": "ce9d88ea",
   "metadata": {},
   "outputs": [
    {
     "name": "stdout",
     "output_type": "stream",
     "text": [
      "what vehicle do you want? Car\n",
      "How recent do you want your vehicle to be ? 2023\n",
      "What brand of vehicle do you want? Toyota\n",
      "What version of the vehicle do you want? Tesla\n",
      "How many doors do you want your vehicle to have? 4\n",
      "What type of roof do you want your vehicle to have? solid\n",
      "Vehicle Type: Car\n",
      "Year: 2023\n",
      "Make: Toyota\n",
      "Model: Tesla\n",
      "Number of doors: 4\n",
      "Type of roof: solid\n"
     ]
    }
   ],
   "source": [
    "class Vehicle():\n",
    "    pass\n",
    "\n",
    "vehicle_type = Vehicle()\n",
    "vehicle_type\n",
    "\n",
    "vehicle_type.cartruckplaneboatbroomstick = input('what vehicle do you want? ')\n",
    "\n",
    "\n",
    "class Automobile(Vehicle):\n",
    "    pass\n",
    "\n",
    "Automobile_type = Vehicle()\n",
    "Automobile_type\n",
    "\n",
    "Automobile_type.year = input('How recent do you want your vehicle to be ? ')\n",
    "Automobile_type.make = input('What brand of vehicle do you want? ')\n",
    "Automobile_type.model = input('What version of the vehicle do you want? ')\n",
    "Automobile_type.doors = input('How many doors do you want your vehicle to have? ')\n",
    "Automobile_type.roof = input('What type of roof do you want your vehicle to have? ')\n",
    "\n",
    "print('Vehicle Type:', vehicle_type.cartruckplaneboatbroomstick)\n",
    "print('Year:', Automobile_type.year)\n",
    "print('Make:', Automobile_type.make)\n",
    "print('Model:', Automobile_type.model)\n",
    "print('Number of doors:', Automobile_type.doors)\n",
    "print('Type of roof:', Automobile_type.roof)"
   ]
  },
  {
   "cell_type": "code",
   "execution_count": null,
   "id": "a09e1466",
   "metadata": {},
   "outputs": [],
   "source": []
  }
 ],
 "metadata": {
  "kernelspec": {
   "display_name": "Python 3 (ipykernel)",
   "language": "python",
   "name": "python3"
  },
  "language_info": {
   "codemirror_mode": {
    "name": "ipython",
    "version": 3
   },
   "file_extension": ".py",
   "mimetype": "text/x-python",
   "name": "python",
   "nbconvert_exporter": "python",
   "pygments_lexer": "ipython3",
   "version": "3.10.9"
  }
 },
 "nbformat": 4,
 "nbformat_minor": 5
}
