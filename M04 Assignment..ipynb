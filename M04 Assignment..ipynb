{
 "cells": [
  {
   "cell_type": "code",
   "execution_count": 55,
   "id": "0f35f479",
   "metadata": {},
   "outputs": [
    {
     "name": "stdout",
     "output_type": "stream",
     "text": [
      "Open 9-5 daily\n"
     ]
    }
   ],
   "source": [
    "#11.1\n",
    "#zoo.py file\n",
    "\n",
    "f = open('zoo.py','w')\n",
    "\n",
    "def hours():\n",
    "    print('Open 9-5 daily')\n",
    "    \n",
    "    \n",
    "from zoo import *\n",
    "hours()"
   ]
  },
  {
   "cell_type": "code",
   "execution_count": 56,
   "id": "b2c8a430",
   "metadata": {},
   "outputs": [
    {
     "name": "stdout",
     "output_type": "stream",
     "text": [
      "Open 9-5 daily\n"
     ]
    }
   ],
   "source": [
    "#11.2\n",
    "#import menagerie\n",
    "\n",
    "import zoo as menagerie\n",
    "hours()"
   ]
  },
  {
   "cell_type": "code",
   "execution_count": null,
   "id": "ce317efb",
   "metadata": {},
   "outputs": [],
   "source": [
    "#16.8\n",
    "#use the sqlalchemy module\n",
    "\n",
    "from sqlalchemy import create_engine, select, Table, Column, MetaData\n",
    "\n",
    "engine = create_engine('sqlite:///books.db')\n",
    "\n",
    "\n",
    "metadata = MetaData()\n",
    "books_table = Table('book', metadata, autoload_with=engine)\n",
    "\n",
    "\n",
    "with engine.connect() as connection:\n",
    "    query = select([books_table.c.title]).order_by(books_table.c.title)\n",
    "    result = connection.execute(query)\n",
    "\n",
    "    print(\"Titles in alphabetical order:\")\n",
    "    for row in result:\n",
    "        print(row[0])"
   ]
  }
 ],
 "metadata": {
  "kernelspec": {
   "display_name": "Python 3 (ipykernel)",
   "language": "python",
   "name": "python3"
  },
  "language_info": {
   "codemirror_mode": {
    "name": "ipython",
    "version": 3
   },
   "file_extension": ".py",
   "mimetype": "text/x-python",
   "name": "python",
   "nbconvert_exporter": "python",
   "pygments_lexer": "ipython3",
   "version": "3.10.9"
  }
 },
 "nbformat": 4,
 "nbformat_minor": 5
}
