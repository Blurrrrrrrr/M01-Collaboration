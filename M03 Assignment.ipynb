{
 "cells": [
  {
   "cell_type": "code",
   "execution_count": 10,
   "id": "ceb6f95b",
   "metadata": {},
   "outputs": [
    {
     "name": "stdout",
     "output_type": "stream",
     "text": [
      "['mozzarella', 'cinderella', 'salmonella']\n"
     ]
    }
   ],
   "source": [
    "#7.4\n",
    "# make a list featuring a cheese, name of a princess, and a bacteria\n",
    "\n",
    "things = ['mozzarella', 'cinderella', 'salmonella']\n",
    "print(things)"
   ]
  },
  {
   "cell_type": "code",
   "execution_count": 11,
   "id": "bda486c9",
   "metadata": {},
   "outputs": [
    {
     "name": "stdout",
     "output_type": "stream",
     "text": [
      "['mozzarella', 'Cinderella', 'salmonella']\n"
     ]
    }
   ],
   "source": [
    "#7.5\n",
    "# Capitalize element in \"things\"\n",
    "\n",
    "things = ['mozzarella', 'Cinderella', 'salmonella']\n",
    "print(things)"
   ]
  },
  {
   "cell_type": "markdown",
   "id": "c6370696",
   "metadata": {},
   "source": [
    "7.5>. Did it change the element in the list? Yes."
   ]
  },
  {
   "cell_type": "code",
   "execution_count": 12,
   "id": "f335110a",
   "metadata": {},
   "outputs": [
    {
     "name": "stdout",
     "output_type": "stream",
     "text": [
      "['MOZZARELLA', 'cinderella', 'salmonella']\n"
     ]
    }
   ],
   "source": [
    "#7.6\n",
    "#UPPERCASE cheese\n",
    "\n",
    "things = ['MOZZARELLA', 'cinderella', 'salmonella']\n",
    "print(things)"
   ]
  },
  {
   "cell_type": "code",
   "execution_count": 31,
   "id": "2449dbec",
   "metadata": {},
   "outputs": [
    {
     "name": "stdout",
     "output_type": "stream",
     "text": [
      "['mozzarella', 'cinderella']\n"
     ]
    }
   ],
   "source": [
    "#7.7\n",
    "#Eradicate disease.\n",
    "\n",
    "things = ['mozzarella', 'cinderella', 'salmonella']\n",
    "things.remove('salmonella')\n",
    "print(things)"
   ]
  },
  {
   "cell_type": "code",
   "execution_count": 26,
   "id": "63017997",
   "metadata": {},
   "outputs": [
    {
     "data": {
      "text/plain": [
       "['Harry', 'Ron', 'Hermione']"
      ]
     },
     "execution_count": 26,
     "metadata": {},
     "output_type": "execute_result"
    }
   ],
   "source": [
    "#9.1\n",
    "# the beginning of the function: \"good\"\n",
    "\n",
    "def good (potter):\n",
    "    return potter\n",
    "good(['Harry', 'Ron', 'Hermione'])"
   ]
  },
  {
   "cell_type": "code",
   "execution_count": 30,
   "id": "675dc4b2",
   "metadata": {},
   "outputs": [
    {
     "name": "stdout",
     "output_type": "stream",
     "text": [
      "1\n",
      "3\n",
      "5\n",
      "7\n",
      "9\n"
     ]
    }
   ],
   "source": [
    "#9.2\n",
    "# define generator function.\n",
    "\n",
    "def get_odds(first=1, last=10, step=2):\n",
    "    number = first\n",
    "    while number < last:\n",
    "        yield number\n",
    "        number += step\n",
    "get_odds\n",
    "odds = get_odds (1,11)\n",
    "odds\n",
    "for x in odds:\n",
    "    print(x)"
   ]
  }
 ],
 "metadata": {
  "kernelspec": {
   "display_name": "Python 3 (ipykernel)",
   "language": "python",
   "name": "python3"
  },
  "language_info": {
   "codemirror_mode": {
    "name": "ipython",
    "version": 3
   },
   "file_extension": ".py",
   "mimetype": "text/x-python",
   "name": "python",
   "nbconvert_exporter": "python",
   "pygments_lexer": "ipython3",
   "version": "3.10.9"
  }
 },
 "nbformat": 4,
 "nbformat_minor": 5
}
