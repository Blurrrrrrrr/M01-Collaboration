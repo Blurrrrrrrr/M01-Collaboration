{
 "cells": [
  {
   "cell_type": "code",
   "execution_count": 2,
   "id": "eef6d793",
   "metadata": {},
   "outputs": [
    {
     "name": "stdout",
     "output_type": "stream",
     "text": [
      "Just right\n"
     ]
    }
   ],
   "source": [
    "# 4.1\n",
    "# Choose between a number.\n",
    "\n",
    "secret = 1\n",
    "guess = 3\n",
    "\n",
    "if guess < secret:\n",
    "    print('Too low')\n",
    "elif guess > secret:\n",
    "    print('Too high')\n",
    "else:\n",
    "    print('Just right')"
   ]
  },
  {
   "cell_type": "code",
   "execution_count": null,
   "id": "f3b5c4a3",
   "metadata": {},
   "outputs": [],
   "source": [
    "#4.2\n",
    "# True or False\n",
    "\n",
    "small = True\n",
    "green = False\n",
    "user = input('is a pea small & green?')\n",
    "\n",
    "\n",
    "if user =="
   ]
  },
  {
   "cell_type": "code",
   "execution_count": 13,
   "id": "5a75685e",
   "metadata": {},
   "outputs": [],
   "source": [
    "#6.1\n",
    "# for loop list\n",
    "\n",
    "for i in range (3,-1):\n",
    "    print(i)"
   ]
  },
  {
   "cell_type": "code",
   "execution_count": null,
   "id": "6f002a8d",
   "metadata": {},
   "outputs": [],
   "source": []
  }
 ],
 "metadata": {
  "kernelspec": {
   "display_name": "Python 3 (ipykernel)",
   "language": "python",
   "name": "python3"
  },
  "language_info": {
   "codemirror_mode": {
    "name": "ipython",
    "version": 3
   },
   "file_extension": ".py",
   "mimetype": "text/x-python",
   "name": "python",
   "nbconvert_exporter": "python",
   "pygments_lexer": "ipython3",
   "version": "3.10.9"
  }
 },
 "nbformat": 4,
 "nbformat_minor": 5
}
