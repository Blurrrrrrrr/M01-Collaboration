{
 "cells": [
  {
   "cell_type": "code",
   "execution_count": 4,
   "id": "cc4923ec",
   "metadata": {},
   "outputs": [
    {
     "name": "stdout",
     "output_type": "stream",
     "text": [
      "What is your last name? Muset\n",
      "What is your first name? Ozil\n",
      "What is your GPA? 3.4\n",
      "Ozil Muset You have made the Honor Roll list.\n"
     ]
    }
   ],
   "source": [
    "student_last_name = input ('What is your last name? ')\n",
    "\n",
    "if student_last_name == 'ZZZ':\n",
    "    print('The system does not recognize you')\n",
    "else:\n",
    "    student_first_name = input ('What is your first name? ')\n",
    "\n",
    "student_gpa = float(input ('What is your GPA? '))\n",
    "\n",
    "if student_gpa >= 3.5:\n",
    "    print(student_first_name, student_last_name, 'You have made the Dean\\'s list.')\n",
    "    print(student_first_name, student_last_name, 'You have made the Honor Roll.')\n",
    "elif student_gpa >= 3.25 and student_gpa <3.5:\n",
    "    print(student_first_name, student_last_name, 'You have made the Honor Roll list.')\n",
    "else:\n",
    "    print(student_first_name, student_last_name, 'You did not make the Dean\\'s list nor the Honor Roll.')"
   ]
  },
  {
   "cell_type": "code",
   "execution_count": 5,
   "id": "f29270dd",
   "metadata": {},
   "outputs": [
    {
     "name": "stdout",
     "output_type": "stream",
     "text": [
      "What is your last name? Messi\n",
      "What is your first name? Lionel\n",
      "What is your GPA? 4.0\n",
      "Lionel Messi You have made the Dean's list.\n",
      "Lionel Messi You have made the Honor Roll.\n"
     ]
    }
   ],
   "source": [
    "student_last_name = input ('What is your last name? ')\n",
    "\n",
    "if student_last_name == 'ZZZ':\n",
    "    print('The system does not recognize you')\n",
    "else:\n",
    "    student_first_name = input ('What is your first name? ')\n",
    "\n",
    "student_gpa = float(input ('What is your GPA? '))\n",
    "\n",
    "if student_gpa >= 3.5:\n",
    "    print(student_first_name, student_last_name, 'You have made the Dean\\'s list.')\n",
    "    print(student_first_name, student_last_name, 'You have made the Honor Roll.')\n",
    "elif student_gpa >= 3.25 and student_gpa <3.5:\n",
    "    print(student_first_name, student_last_name, 'You have made the Honor Roll list.')\n",
    "else:\n",
    "    print(student_first_name, student_last_name, 'You did not make the Dean\\'s list nor the Honor Roll.')"
   ]
  },
  {
   "cell_type": "code",
   "execution_count": 6,
   "id": "2a49d547",
   "metadata": {},
   "outputs": [
    {
     "name": "stdout",
     "output_type": "stream",
     "text": [
      "What is your last name? Ronaldo\n",
      "What is your first name? Cristiano\n",
      "What is your GPA? 3.2\n",
      "Cristiano Ronaldo You did not make the Dean's list nor the Honor Roll.\n"
     ]
    }
   ],
   "source": [
    "student_last_name = input ('What is your last name? ')\n",
    "\n",
    "if student_last_name == 'ZZZ':\n",
    "    print('The system does not recognize you')\n",
    "else:\n",
    "    student_first_name = input ('What is your first name? ')\n",
    "\n",
    "student_gpa = float(input ('What is your GPA? '))\n",
    "\n",
    "if student_gpa >= 3.5:\n",
    "    print(student_first_name, student_last_name, 'You have made the Dean\\'s list.')\n",
    "    print(student_first_name, student_last_name, 'You have made the Honor Roll.')\n",
    "elif student_gpa >= 3.25 and student_gpa <3.5:\n",
    "    print(student_first_name, student_last_name, 'You have made the Honor Roll list.')\n",
    "else:\n",
    "    print(student_first_name, student_last_name, 'You did not make the Dean\\'s list nor the Honor Roll.')"
   ]
  },
  {
   "cell_type": "code",
   "execution_count": 7,
   "id": "ed872265",
   "metadata": {},
   "outputs": [
    {
     "name": "stdout",
     "output_type": "stream",
     "text": [
      "What is your last name? Lewandowski\n",
      "What is your first name? Robert\n",
      "What is your GPA? 3.25\n",
      "Robert Lewandowski You have made the Honor Roll list.\n"
     ]
    }
   ],
   "source": [
    "student_last_name = input ('What is your last name? ')\n",
    "\n",
    "if student_last_name == 'ZZZ':\n",
    "    print('The system does not recognize you')\n",
    "else:\n",
    "    student_first_name = input ('What is your first name? ')\n",
    "\n",
    "student_gpa = float(input ('What is your GPA? '))\n",
    "\n",
    "if student_gpa >= 3.5:\n",
    "    print(student_first_name, student_last_name, 'You have made the Dean\\'s list.')\n",
    "    print(student_first_name, student_last_name, 'You have made the Honor Roll.')\n",
    "elif student_gpa >= 3.25 and student_gpa <3.5:\n",
    "    print(student_first_name, student_last_name, 'You have made the Honor Roll list.')\n",
    "else:\n",
    "    print(student_first_name, student_last_name, 'You did not make the Dean\\'s list nor the Honor Roll.')"
   ]
  },
  {
   "cell_type": "code",
   "execution_count": 8,
   "id": "71890ae6",
   "metadata": {},
   "outputs": [
    {
     "name": "stdout",
     "output_type": "stream",
     "text": [
      "What is your last name? Salah\n",
      "What is your first name? Mohammed\n",
      "What is your GPA? 3.5\n",
      "Mohammed Salah You have made the Dean's list.\n",
      "Mohammed Salah You have made the Honor Roll.\n"
     ]
    }
   ],
   "source": [
    "student_last_name = input ('What is your last name? ')\n",
    "\n",
    "if student_last_name == 'ZZZ':\n",
    "    print('The system does not recognize you')\n",
    "else:\n",
    "    student_first_name = input ('What is your first name? ')\n",
    "\n",
    "student_gpa = float(input ('What is your GPA? '))\n",
    "\n",
    "if student_gpa >= 3.5:\n",
    "    print(student_first_name, student_last_name, 'You have made the Dean\\'s list.')\n",
    "    print(student_first_name, student_last_name, 'You have made the Honor Roll.')\n",
    "elif student_gpa >= 3.25 and student_gpa <3.5:\n",
    "    print(student_first_name, student_last_name, 'You have made the Honor Roll list.')\n",
    "else:\n",
    "    print(student_first_name, student_last_name, 'You did not make the Dean\\'s list nor the Honor Roll.')"
   ]
  }
 ],
 "metadata": {
  "kernelspec": {
   "display_name": "Python 3 (ipykernel)",
   "language": "python",
   "name": "python3"
  },
  "language_info": {
   "codemirror_mode": {
    "name": "ipython",
    "version": 3
   },
   "file_extension": ".py",
   "mimetype": "text/x-python",
   "name": "python",
   "nbconvert_exporter": "python",
   "pygments_lexer": "ipython3",
   "version": "3.10.9"
  }
 },
 "nbformat": 4,
 "nbformat_minor": 5
}
