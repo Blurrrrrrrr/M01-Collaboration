{
 "cells": [
  {
   "cell_type": "code",
   "execution_count": 4,
   "id": "cc4923ec",
   "metadata": {},
   "outputs": [
    {
     "name": "stdout",
     "output_type": "stream",
     "text": [
      "What is your last name? Muset\n",
      "What is your first name? Ozil\n",
      "What is your GPA? 3.4\n",
      "Ozil Muset You have made the Honor Roll list.\n"
     ]
    }
   ],
   "source": [
    "student_last_name = input ('What is your last name? ')\n",
    "\n",
    "if student_last_name == 'ZZZ':\n",
    "    print('The system does not recognize you')\n",
    "else:\n",
    "    student_first_name = input ('What is your first name? ')\n",
    "\n",
    "student_gpa = float(input ('What is your GPA? '))\n",
    "\n",
    "if student_gpa >= 3.5:\n",
    "    print(student_first_name, student_last_name, 'You have made the Dean\\'s list.')\n",
    "    print(student_first_name, student_last_name, 'You have made the Honor Roll.')\n",
    "elif student_gpa >= 3.25 and student_gpa <3.5:\n",
    "    print(student_first_name, student_last_name, 'You have made the Honor Roll list.')\n",
    "else:\n",
    "    print(student_first_name, student_last_name, 'You did not make the Dean\\'s list nor the Honor Roll.')"
   ]
  },
  {
   "cell_type": "code",
   "execution_count": null,
   "id": "f29270dd",
   "metadata": {},
   "outputs": [],
   "source": []
  }
 ],
 "metadata": {
  "kernelspec": {
   "display_name": "Python 3 (ipykernel)",
   "language": "python",
   "name": "python3"
  },
  "language_info": {
   "codemirror_mode": {
    "name": "ipython",
    "version": 3
   },
   "file_extension": ".py",
   "mimetype": "text/x-python",
   "name": "python",
   "nbconvert_exporter": "python",
   "pygments_lexer": "ipython3",
   "version": "3.10.9"
  }
 },
 "nbformat": 4,
 "nbformat_minor": 5
}
